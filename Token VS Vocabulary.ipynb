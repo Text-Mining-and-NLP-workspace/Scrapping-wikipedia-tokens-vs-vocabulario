{
 "cells": [
  {
   "cell_type": "markdown",
   "id": "d494a58f",
   "metadata": {},
   "source": [
    "<a href=\"https://www.uvg.edu.gt/\"><img align=\"left\" src=\"https://www.uvg.edu.gt/wp-content/uploads/socialshare-logo.jpg\" width=\"90\" height=\"90\"></a>\n",
    "**_Corporate Master in Applied Data Science_**<br/>\n",
    "**_Text Mining & Natural Language Processing_**<br/>\n",
    "**_Catedratico: Pedro Alberto Aguilar Nuñez_**<br/>\n",
    "<br/>\n",
    "\n",
    "Integrantes:\n",
    "- Aldo Montenegro Margnoni\n",
    "- Gabriel Fernando Montenero Ortiz\n",
    "- Axel Adolfo Muralles Carranza\n",
    "- German Antonio Oliva Muralles\n",
    "\n",
    "# Jupyter Notebook Tarea 2 Scrapping wikipedia / tokens vs vocabulario\n",
    "\n",
    "## Descripcion\n",
    "En el presente notebook, estaremos realizando el procesamiento de varios documentos de texto, los cuales son resultado de un scrapping de articulos de Wikipedia, de estos documentos estaremos obteniendo tokens por cada palabra dentro de cada uno de ellos, y calcularamos el numero de tokens y el numero de palabras en el vocabulario incrementalmente en cada iteracion, para poder observar como se comporta el vocabulario en funcion del numero de tokens."
   ]
  },
  {
   "cell_type": "markdown",
   "id": "fec43f97",
   "metadata": {},
   "source": [
    "Antes de proceder con este notebook, debemos asegurarnos de que contamos con el archivo *token_VS_vocabulary.json*, de lo contrario debemos seguir las instrucciones que se detallan [aqui](https://github.com/Text-Mining-and-NLP-workspace/Tarea-2-Scrapping-wikipedia-tokens-vs-vocabulario) "
   ]
  },
  {
   "cell_type": "code",
   "execution_count": 1,
   "id": "b3520e37",
   "metadata": {},
   "outputs": [],
   "source": [
    "#carga de librerias necesarias para el procesamiento\n",
    "import os\n",
    "import re\n",
    "import json\n",
    "import pandas as pd\n",
    "import numpy as np\n",
    "import matplotlib.pyplot as plt\n",
    "import seaborn as sns\n",
    "from collections import Counter\n",
    "sns.set_theme(style=\"darkgrid\")"
   ]
  },
  {
   "cell_type": "markdown",
   "id": "b21154fd",
   "metadata": {},
   "source": [
    "Una vez cargadas las librerias necesarias, cargamos el archivo que contiene los documentos a procesar en un dataframe de pandas"
   ]
  },
  {
   "cell_type": "code",
   "execution_count": 2,
   "id": "4e437e7c",
   "metadata": {},
   "outputs": [],
   "source": [
    "filename='token_VS_vocabulary.json'\n",
    "with open(filename, 'r') as f:\n",
    "    data=pd.DataFrame(json.load(f))"
   ]
  },
  {
   "cell_type": "markdown",
   "id": "c46c314d",
   "metadata": {},
   "source": [
    "Observamos la estructura de nuestro data frame"
   ]
  },
  {
   "cell_type": "code",
   "execution_count": 3,
   "id": "945c0196",
   "metadata": {},
   "outputs": [
    {
     "name": "stdout",
     "output_type": "stream",
     "text": [
      "<class 'pandas.core.frame.DataFrame'>\n",
      "RangeIndex: 500 entries, 0 to 499\n",
      "Data columns (total 1 columns):\n",
      " #   Column  Non-Null Count  Dtype \n",
      "---  ------  --------------  ----- \n",
      " 0   text    500 non-null    object\n",
      "dtypes: object(1)\n",
      "memory usage: 4.0+ KB\n"
     ]
    }
   ],
   "source": [
    "data.info()"
   ]
  },
  {
   "cell_type": "markdown",
   "id": "297452a8",
   "metadata": {},
   "source": [
    "Podemos ver que contamos con 500 documentos, de los cuales necesitamos aproximadamente 250 para obtener aproximadamente 1 millon de tokens, realizamos un primer procesamiento en el cual generamos dos valores por cada iteracion, el numero total de tokens, y el numero de palabras actual en el vocabulario"
   ]
  },
  {
   "cell_type": "code",
   "execution_count": 4,
   "id": "c2fb2a09",
   "metadata": {},
   "outputs": [],
   "source": [
    "token_lst=[]\n",
    "token=[]\n",
    "vocabulary=[]\n",
    "for text in data.iloc[0:250,0]:\n",
    "    corpus=''.join(text)       \n",
    "    token_lst+=re.split('\\W+',corpus.lower())\n",
    "    vocabulary_lst=Counter(token_lst).most_common()    \n",
    "    token.append(len(token_lst))\n",
    "    vocabulary.append(len(vocabulary_lst))"
   ]
  },
  {
   "cell_type": "markdown",
   "id": "cab9a972",
   "metadata": {},
   "source": [
    "con los pares de datos que obtuvimos traazaremos una grafica, y tambien comprobaremos la validez de la Ley de Heaps, calculamos el coeficiente como la proporcion promedio entre el vocabulario con respecto a la raiz cuadrada de la cantidad de tokens, y trazamos una curva de la forma $kN^{1/2}$"
   ]
  },
  {
   "cell_type": "code",
   "execution_count": 5,
   "id": "1e82daf7",
   "metadata": {},
   "outputs": [],
   "source": [
    "df=pd.DataFrame({'token':token,'vocabulary':vocabulary})\n",
    "df['estimated']=np.sqrt(df.token)\n",
    "coef=(df['vocabulary']/df['estimated']).mean()   \n",
    "df['Ley de Heaps '+str(int(round(coef,0)))+'*N^1/2']=int(round(coef,0))*np.sqrt(df.token)"
   ]
  },
  {
   "cell_type": "markdown",
   "id": "5785bc21",
   "metadata": {},
   "source": [
    "#### Grafica Token VS Vocabulary (practico y teorico)"
   ]
  },
  {
   "cell_type": "code",
   "execution_count": 7,
   "id": "6302118e",
   "metadata": {},
   "outputs": [
    {
     "data": {
      "image/png": "[encoded data removed]",
      "text/plain": [
       "<Figure size 514.975x360 with 1 Axes>"
      ]
     },
     "metadata": {},
     "output_type": "display_data"
    }
   ],
   "source": [
    "sns.relplot(x=\"token\", y=\"value\", kind=\"line\", hue='variable',data=df.melt(id_vars =['token'], value_vars =['vocabulary', 'Ley de Heaps '+str(int(round(coef,0)))+'*N^1/2']))       \n",
    "plt.show()\n"
   ]
  },
  {
   "cell_type": "markdown",
   "id": "261e5af2",
   "metadata": {},
   "source": [
    "De lo anterior podemos demostrar que esta ley siempre se cumple, procesando aleatoreamente 250 documentos de nuestro set, y graficando sus respectivas curvas"
   ]
  },
  {
   "cell_type": "code",
   "execution_count": null,
   "id": "f141877a",
   "metadata": {},
   "outputs": [],
   "source": []
  }
 ],
 "metadata": {
  "kernelspec": {
   "display_name": "Python 3 (ipykernel)",
   "language": "python",
   "name": "python3"
  },
  "language_info": {
   "codemirror_mode": {
    "name": "ipython",
    "version": 3
   },
   "file_extension": ".py",
   "mimetype": "text/x-python",
   "name": "python",
   "nbconvert_exporter": "python",
   "pygments_lexer": "ipython3",
   "version": "3.9.12"
  }
 },
 "nbformat": 4,
 "nbformat_minor": 5
}
